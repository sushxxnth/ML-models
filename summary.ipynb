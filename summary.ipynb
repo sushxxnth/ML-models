{
 "cells": [
  {
   "cell_type": "code",
   "execution_count": 1,
   "id": "151a22db-0d3d-49f5-bbde-1c66abcc4a50",
   "metadata": {},
   "outputs": [
    {
     "data": {
      "application/vnd.jupyter.widget-view+json": {
       "model_id": "527d2e7e8c0d4d39ad4a02ff9b307038",
       "version_major": 2,
       "version_minor": 0
      },
      "text/plain": [
       "config.json:   0%|          | 0.00/1.58k [00:00<?, ?B/s]"
      ]
     },
     "metadata": {},
     "output_type": "display_data"
    },
    {
     "data": {
      "application/vnd.jupyter.widget-view+json": {
       "model_id": "2709c631e8d444ec84d261dbc5bca4ed",
       "version_major": 2,
       "version_minor": 0
      },
      "text/plain": [
       "model.safetensors:   0%|          | 0.00/1.63G [00:00<?, ?B/s]"
      ]
     },
     "metadata": {},
     "output_type": "display_data"
    },
    {
     "data": {
      "application/vnd.jupyter.widget-view+json": {
       "model_id": "b10eea75716a4d5fb77db986363ac3fd",
       "version_major": 2,
       "version_minor": 0
      },
      "text/plain": [
       "generation_config.json:   0%|          | 0.00/363 [00:00<?, ?B/s]"
      ]
     },
     "metadata": {},
     "output_type": "display_data"
    },
    {
     "data": {
      "application/vnd.jupyter.widget-view+json": {
       "model_id": "ead2357d1a924a95a49a9a335441a69c",
       "version_major": 2,
       "version_minor": 0
      },
      "text/plain": [
       "vocab.json:   0%|          | 0.00/899k [00:00<?, ?B/s]"
      ]
     },
     "metadata": {},
     "output_type": "display_data"
    },
    {
     "data": {
      "application/vnd.jupyter.widget-view+json": {
       "model_id": "4a7b7c4c1cec4399bdfaab59aec221f1",
       "version_major": 2,
       "version_minor": 0
      },
      "text/plain": [
       "merges.txt:   0%|          | 0.00/456k [00:00<?, ?B/s]"
      ]
     },
     "metadata": {},
     "output_type": "display_data"
    },
    {
     "data": {
      "application/vnd.jupyter.widget-view+json": {
       "model_id": "0465183946d546fca4bb816f7b4d50d4",
       "version_major": 2,
       "version_minor": 0
      },
      "text/plain": [
       "tokenizer.json:   0%|          | 0.00/1.36M [00:00<?, ?B/s]"
      ]
     },
     "metadata": {},
     "output_type": "display_data"
    },
    {
     "name": "stderr",
     "output_type": "stream",
     "text": [
      "/Library/Frameworks/Python.framework/Versions/3.12/lib/python3.12/site-packages/transformers/tokenization_utils_base.py:1601: FutureWarning: `clean_up_tokenization_spaces` was not set. It will be set to `True` by default. This behavior will be depracted in transformers v4.45, and will be then set to `False` by default. For more details check this issue: https://github.com/huggingface/transformers/issues/31884\n",
      "  warnings.warn(\n",
      "Hardware accelerator e.g. GPU is available in the environment, but no `device` argument is passed to the `Pipeline` object. Model will be on CPU.\n"
     ]
    }
   ],
   "source": [
    "# Use a pipeline as a high-level helper\n",
    "from transformers import pipeline\n",
    "\n",
    "pipe = pipeline(\"summarization\", model=\"facebook/bart-large-cnn\")"
   ]
  },
  {
   "cell_type": "code",
   "execution_count": 2,
   "id": "1d2af300-1e52-492a-9f1a-885b0546280b",
   "metadata": {},
   "outputs": [
    {
     "name": "stderr",
     "output_type": "stream",
     "text": [
      "Hardware accelerator e.g. GPU is available in the environment, but no `device` argument is passed to the `Pipeline` object. Model will be on CPU.\n"
     ]
    }
   ],
   "source": [
    "summarizer = pipeline(\"summarization\", model=\"facebook/bart-large-cnn\")"
   ]
  },
  {
   "cell_type": "code",
   "execution_count": 3,
   "id": "fec5ddf5-ebd8-49e9-b043-1f0894021945",
   "metadata": {},
   "outputs": [
    {
     "data": {
      "text/plain": [
       "\"Virat Kohli’s approach has often been about domination, which while spectacular, sometimes leads to an all-or-nothing scenario. To overtake Root, who has mastered the art of building innings, Kohli might need to adopt a more patient mindset. This doesn't mean abandoning his natural game but rather integrating phases where he focuses on survival and accumulation rather than acceleration.\""
      ]
     },
     "execution_count": 3,
     "metadata": {},
     "output_type": "execute_result"
    }
   ],
   "source": [
    "text = \"\"\"\n",
    "Virat Kohli’s batting, while aggressive and technically sound, has occasionally shown vulnerability against the swinging ball, especially outside the off-stump. This has been less of an issue in ODIs or T20s due to the nature of those formats, but in Test cricket, where conditions can be more bowler-friendly, this becomes critical. Kohli might benefit from revisiting his stance and footwork, particularly against the moving ball. A slight adjustment in his trigger movement, perhaps adopting a more pronounced back-and-across movement, could help in better weight transfer, allowing him to play later and closer to his body. This change could reduce the instances where he’s caught on the crease, unsure whether to defend or leave. Learning from Root, who plays the ball very late, Kohli could enhance his ability to combat swing, thereby increasing his consistency in challenging conditions.\n",
    "Virat Kohli’s approach has often been about domination, which while spectacular, sometimes leads to an all-or-nothing scenario. To overtake Root, who has mastered the art of building innings, Kohli might need to adopt a more patient mindset. This doesn’t mean abandoning his natural game but rather integrating phases where he focuses on survival and accumulation rather than acceleration. This shift would be particularly beneficial in Test cricket, where the pitch conditions evolve, offering different challenges as the game progresses. Kohli’s ability to adapt his game according to the match situation, focusing on long-term innings rather than immediate impact, could lead to more substantial scores, akin to Root’s methodical approach.Virat Kohli has stepped down as Test captain, his influence within the team remains significant. However, to focus purely on his batting, he might need to distance himself slightly from the leadership pressures, even in an unofficial capacity. This mental space could allow him to concentrate solely on his batting, reducing the tactical burden that might subconsciously affect his performance. Additionally, fostering a more collaborative environment where he trusts his teammates more implicitly could reduce the self-imposed pressure of carrying the team. Root’s success has partly been due to his ability to lead from the front while also sharing the load with his teammates, which Kohli could emulate by enhancing team dynamics where everyone feels equally responsible for the outcome.\n",
    "\n",
    "\"\"\"\n",
    "summarized_text = summarizer(text, min_length=5, max_length=140)[0]['summary_text']\n",
    "summarized_text"
   ]
  },
  {
   "cell_type": "code",
   "execution_count": null,
   "id": "4fc5b49c-cde7-45cb-a2fc-89d47e741f39",
   "metadata": {},
   "outputs": [],
   "source": [
    "text = \"\"\"\n",
    "Virat Kohli’s batting, while aggressive and technically sound, has occasionally shown vulnerability against the swinging ball, especially outside the off-stump. This has been less of an issue in ODIs or T20s due to the nature of those formats, but in Test cricket, where conditions can be more bowler-friendly, this becomes critical. Kohli might benefit from revisiting his stance and footwork, particularly against the moving ball. A slight adjustment in his trigger movement, perhaps adopting a more pronounced back-and-across movement, could help in better weight transfer, allowing him to play later and closer to his body. This change could reduce the instances where he’s caught on the crease, unsure whether to defend or leave. Learning from Root, who plays the ball very late, Kohli could enhance his ability to combat swing, thereby increasing his consistency in challenging conditions.\n",
    "Virat Kohli’s approach has often been about domination, which while spectacular, sometimes leads to an all-or-nothing scenario. To overtake Root, who has mastered the art of building innings, Kohli might need to adopt a more patient mindset. This doesn’t mean abandoning his natural game but rather integrating phases where he focuses on survival and accumulation rather than acceleration. This shift would be particularly beneficial in Test cricket, where the pitch conditions evolve, offering different challenges as the game progresses. Kohli’s ability to adapt his game according to the match situation, focusing on long-term innings rather than immediate impact, could lead to more substantial scores, akin to Root’s methodical approach.Virat Kohli has stepped down as Test captain, his influence within the team remains significant. However, to focus purely on his batting, he might need to distance himself slightly from the leadership pressures, even in an unofficial capacity. This mental space could allow him to concentrate solely on his batting, reducing the tactical burden that might subconsciously affect his performance. Additionally, fostering a more collaborative environment where he trusts his teammates more implicitly could reduce the self-imposed pressure of carrying the team. Root’s success has partly been due to his ability to lead from the front while also sharing the load with his teammates, which Kohli could emulate by enhancing team dynamics where everyone feels equally responsible for the outcome.\n",
    "\n",
    "\"\"\"\n",
    "summarized_text = summarizer(text, min_length=5, max_length=100)[1]['summary_text']\n",
    "summarized_text"
   ]
  }
 ],
 "metadata": {
  "kernelspec": {
   "display_name": "Python 3 (ipykernel)",
   "language": "python",
   "name": "python3"
  },
  "language_info": {
   "codemirror_mode": {
    "name": "ipython",
    "version": 3
   },
   "file_extension": ".py",
   "mimetype": "text/x-python",
   "name": "python",
   "nbconvert_exporter": "python",
   "pygments_lexer": "ipython3",
   "version": "3.12.4"
  }
 },
 "nbformat": 4,
 "nbformat_minor": 5
}
